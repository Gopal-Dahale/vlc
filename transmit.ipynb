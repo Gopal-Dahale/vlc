{
 "cells": [
  {
   "cell_type": "code",
   "execution_count": 1,
   "metadata": {},
   "outputs": [],
   "source": [
    "# import RPi.GPIO as GPIO\n",
    "import time\n",
    "from dahuffman import HuffmanCodec\n",
    "import json"
   ]
  },
  {
   "cell_type": "code",
   "execution_count": 2,
   "metadata": {},
   "outputs": [
    {
     "name": "stdout",
     "output_type": "stream",
     "text": [
      "hi, this is a demo message for transmission. 44\n",
      "Bits Code   Value Symbol\n",
      "   5 00000      0 'f'\n",
      "   5 00001      1 'g'\n",
      "   4 0001       1 'h'\n",
      "   4 0010       2 'n'\n",
      "   4 0011       3 'r'\n",
      "   3 010        2 'i'\n",
      "   4 0110       6 't'\n",
      "   4 0111       7 'a'\n",
      "   4 1000       8 'e'\n",
      "   4 1001       9 'm'\n",
      "   3 101        5 ' '\n",
      "   4 1100      12 'o'\n",
      "   6 110100    52 _EOF\n",
      "   6 110101    53 ','\n",
      "   6 110110    54 '.'\n",
      "   6 110111    55 'd'\n",
      "   3 111        7 's'\n"
     ]
    }
   ],
   "source": [
    "# GPIO.setmode(GPIO.BOARD)\n",
    "data_pin = 12\n",
    "# GPIO.setup(data_pin, GPIO.OUT, initial=0)\n",
    "\n",
    "filename = 'message.txt'\n",
    "f = open(filename, 'r')\n",
    "msg = f.read()\n",
    "print(msg, len(msg))\n",
    "time_period = 0.005  # seconds\n",
    "len_msg = len(msg)\n",
    "max_payload = 4 # bytes\n",
    "max_bytes_processing = 40 # bytes\n",
    "codec = HuffmanCodec.from_data(msg) \n",
    "codec.print_code_table()\n",
    "# codec.load = codec.get_code_table\n",
    "# codec_bytes = json.dumps(codec).encode('utf-8')\n",
    "# codec_receiver = json.loads(codec_bytes.decode('utf-8'))"
   ]
  },
  {
   "cell_type": "code",
   "execution_count": 3,
   "metadata": {},
   "outputs": [],
   "source": [
    "def print_stats(duration):\n",
    "    print('Total bits send: ', len_msg * 8)\n",
    "    print('Total time taken(s): ', duration)\n",
    "    print('Datarate(bps): ', len_msg * 8 / (duration))\n",
    "\n",
    "def add_header(payload,type_payload,len_payload):\n",
    "    '''\n",
    "    type: 0 for table, 1 for data\n",
    "    len: 4 bits representing maximum of 15 bytes\n",
    "    '''\n",
    "    \n",
    "    header = [type_payload,len_payload]\n",
    "\n",
    "    return bytes(header) + payload\n",
    "\n",
    "\n",
    "def fragment_bytes(msg_bytes,index):\n",
    "    '''\n",
    "    returns the fragment of bytes that can be send in one processing\n",
    "    ex - total msg size is 100 bytes, then only 40 can be processed at once which \n",
    "    will be send in packets of 4 bytes\n",
    "    '''\n",
    "    if(len_msg - index>max_bytes_processing):\n",
    "        return msg_bytes[index:index+max_bytes_processing]\n",
    "    else:\n",
    "        return msg_bytes[index:]\n",
    "\n",
    "def prepare_packet(fragment,type_payload, index):\n",
    "    '''\n",
    "    returns the packet with header and payload\n",
    "    '''\n",
    "    if(len(fragment) - index >= max_payload):\n",
    "        len_payload = max_payload\n",
    "    else:\n",
    "        len_payload = len(fragment) - index\n",
    "\n",
    "    return add_header(fragment[index:index+max_payload],type_payload,len_payload)\n",
    "\n",
    "def transmit_byte(byte):\n",
    "    # bit_stream = byte\n",
    "    # print(bit_stream)\n",
    "    i = 0\n",
    "    while (i < 8):\n",
    "        print(1 if byte & (1 << i) else 0, end = '')\n",
    "        # GPIO.output(data_pin, byte & (1 << i))\n",
    "        time.sleep(time_period)\n",
    "        i += 1\n",
    "    # print('\\n')\n",
    "\n",
    "def run():\n",
    "    '''\n",
    "    protocol for sending message:\n",
    "    1. send the encoding table\n",
    "    2. send data in packets of max_payload bytes\n",
    "    '''\n",
    "\n",
    "    # codec = HuffmanCodec.from_data(msg)\n",
    "    encoded_msg = codec.encode(msg)\n",
    "    len_encoded_msg = len(encoded_msg)\n",
    "    print(encoded_msg)\n",
    "    \n",
    "    for i in range(1):\n",
    "        # send the encoding table\n",
    "        # print('sending encoding table')\n",
    "        \n",
    "        index = 0\n",
    "        start = time.time()\n",
    "        print('Starting transmission\\n')\n",
    "        while(index < len_msg):\n",
    "\n",
    "            fragment = fragment_bytes(encoded_msg,index)\n",
    "            index += max_bytes_processing\n",
    "            i = 0\n",
    "            while(i < len(fragment)):\n",
    "                print('sending packet')\n",
    "                packet = prepare_packet(fragment,1,i)\n",
    "                print(packet)\n",
    "                for byte in packet:\n",
    "                    transmit_byte(byte)\n",
    "\n",
    "                i += max_payload\n",
    "\n",
    "        end = time.time()\n",
    "        print_stats(end - start)\n"
   ]
  },
  {
   "cell_type": "code",
   "execution_count": 4,
   "metadata": {},
   "outputs": [
    {
     "name": "stdout",
     "output_type": "stream",
     "text": [
      "b'\\x15\\xada^\\xaf^\\xef\\x13\\x96c\\xf7\\x0cPa\\xd67/+\\xf5\\x85\\xb6'\n",
      "Starting transmission\n",
      "\n",
      "sending packet\n",
      "b'\\x01\\x04\\x15\\xada^'\n",
      "100000000010000010101000101101011000011001111010sending packet\n",
      "b'\\x01\\x04\\xaf^\\xef\\x13'\n",
      "100000000010000011110101011110101111011111001000sending packet\n",
      "b'\\x01\\x04\\x96c\\xf7\\x0c'\n",
      "100000000010000001101001110001101110111100110000sending packet\n",
      "b'\\x01\\x04Pa\\xd67'\n",
      "100000000010000000001010100001100110101111101100sending packet\n",
      "b'\\x01\\x04/+\\xf5\\x85'\n",
      "100000000010000011110100110101001010111110100001sending packet\n",
      "b'\\x01\\x01\\xb6'\n",
      "100000001000000001101101Total bits send:  352\n",
      "Total time taken(s):  4.11861515045166\n",
      "Datarate(bps):  85.46562063741221\n"
     ]
    }
   ],
   "source": [
    "run()"
   ]
  },
  {
   "cell_type": "code",
   "execution_count": 40,
   "metadata": {},
   "outputs": [],
   "source": [
    "def receive_byte():\n",
    "    bit_stream = 0\n",
    "    i = 0\n",
    "    while (i < 8):\n",
    "        bit_stream |= GPIO.input(data_pin) << i\n",
    "        time.sleep(time_period)\n",
    "        i += 1\n",
    "    return bit_stream\n",
    "\n"
   ]
  },
  {
   "cell_type": "code",
   "execution_count": 7,
   "metadata": {},
   "outputs": [
    {
     "data": {
      "text/plain": [
       "b'\\x01\\x02\\x03\\x04'"
      ]
     },
     "execution_count": 7,
     "metadata": {},
     "output_type": "execute_result"
    }
   ],
   "source": [
    "a = [1,2]\n",
    "b = [3,4]\n",
    "bytes(a) + bytes(b)"
   ]
  },
  {
   "cell_type": "code",
   "execution_count": 44,
   "metadata": {},
   "outputs": [
    {
     "data": {
      "text/plain": [
       "40"
      ]
     },
     "execution_count": 44,
     "metadata": {},
     "output_type": "execute_result"
    }
   ],
   "source": [
    "ord('(')"
   ]
  },
  {
   "cell_type": "code",
   "execution_count": null,
   "metadata": {},
   "outputs": [],
   "source": []
  }
 ],
 "metadata": {
  "interpreter": {
   "hash": "5136693e424b1bfef21c009189c3bd06a70268d49705d72dea73248d3494b30a"
  },
  "kernelspec": {
   "display_name": "Python 3.6.5 ('base')",
   "language": "python",
   "name": "python3"
  },
  "language_info": {
   "codemirror_mode": {
    "name": "ipython",
    "version": 3
   },
   "file_extension": ".py",
   "mimetype": "text/x-python",
   "name": "python",
   "nbconvert_exporter": "python",
   "pygments_lexer": "ipython3",
   "version": "3.6.5"
  },
  "orig_nbformat": 4
 },
 "nbformat": 4,
 "nbformat_minor": 2
}
